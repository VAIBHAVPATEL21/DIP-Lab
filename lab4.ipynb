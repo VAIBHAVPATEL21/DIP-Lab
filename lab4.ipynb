{
 "cells": [
  {
   "cell_type": "code",
   "execution_count": 1,
   "metadata": {},
   "outputs": [],
   "source": [
    "from PIL import Image,ImageChops\n",
    "img1=Image.open(\"Vp.jpg\").convert(\"1\")\n",
    "img2=Image.open(\"img.jpg\").convert(\"1\")\n",
    "img3=ImageChops.logical_and(img1, img2) \n",
    "img3.show()\n",
    "img3.save(\"Log_and.jpg\")\n"
   ]
  },
  {
   "cell_type": "code",
   "execution_count": 2,
   "metadata": {},
   "outputs": [],
   "source": [
    "from PIL import Image,ImageChops\n",
    "img1=Image.open(\"Vp.jpg\").convert(\"1\")\n",
    "img2=Image.open(\"img.jpg\").convert(\"1\")\n",
    "img3=ImageChops.logical_or(img1, img2) \n",
    "img3.show()\n",
    "img3.save(\"Log_or.jpg\")"
   ]
  },
  {
   "cell_type": "code",
   "execution_count": 3,
   "metadata": {},
   "outputs": [],
   "source": [
    "from PIL import Image\n",
    "\n",
    "background = Image.open(\"img.jpg\")\n",
    "foreground = Image.open(\"Watermark.jpg\")\n",
    "\n",
    "background.paste(foreground, (0, 0), foreground)\n",
    "background.show()"
   ]
  },
  {
   "cell_type": "code",
   "execution_count": 4,
   "metadata": {},
   "outputs": [],
   "source": [
    "from PIL import Image,ImageChops\n",
    "img1=Image.open(\"Vp.jpg\").convert(\"1\")\n",
    "img2=Image.open(\"img.jpg\").convert(\"1\")\n",
    "img3=ImageChops.logical_xor(img1, img2) \n",
    "img3.show()\n",
    "img3.save(\"Log_Watermark.jpg\")\n"
   ]
  },
  {
   "cell_type": "code",
   "execution_count": 5,
   "metadata": {},
   "outputs": [],
   "source": [
    "from PIL import Image,ImageChops\n",
    "img1=Image.open(\"Vp.jpg\").convert(\"1\")\n",
    "img3=ImageChops.invert(img1) \n",
    "img3.show()\n",
    "img3.save(\"Log_invert.jpg\")\n",
    "\n"
   ]
  }
 ],
 "metadata": {
  "kernelspec": {
   "display_name": "myproject",
   "language": "python",
   "name": "myproject"
  },
  "language_info": {
   "codemirror_mode": {
    "name": "ipython",
    "version": 3
   },
   "file_extension": ".py",
   "mimetype": "text/x-python",
   "name": "python",
   "nbconvert_exporter": "python",
   "pygments_lexer": "ipython3",
   "version": "3.11.4"
  }
 },
 "nbformat": 4,
 "nbformat_minor": 2
}
