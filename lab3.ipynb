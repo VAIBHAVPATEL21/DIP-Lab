{
 "cells": [
  {
   "cell_type": "code",
   "execution_count": 5,
   "metadata": {},
   "outputs": [],
   "source": [
    "from PIL import Image\n",
    "from matplotlib import pyplot as plt\n",
    "#Read the two images\n",
    "image1 = Image.open('Vp.png')\n",
    "# image1.show()\n",
    "image2 = Image.open('Sample.png')\n",
    "#image2.show()\n",
    "#resize, first image\n",
    "image1 = image1.resize((500, 500))\n",
    "image1_size = image1.size\n",
    "image2_size = image2.size\n",
    "new_image = Image.new('RGB',(2*image1_size[0], image1_size[1]), (250,250,250))\n",
    "new_image.paste(image1,(0,0))\n",
    "new_image.paste(image2,(image1_size[0],0))\n",
    "new_image.save(\"merged_image.png\",\"PNG\")\n",
    "plt.show(new_image)"
   ]
  },
  {
   "cell_type": "code",
   "execution_count": 6,
   "metadata": {},
   "outputs": [
    {
     "ename": "ValueError",
     "evalue": "images do not match",
     "output_type": "error",
     "traceback": [
      "\u001b[0;31m---------------------------------------------------------------------------\u001b[0m",
      "\u001b[0;31mValueError\u001b[0m                                Traceback (most recent call last)",
      "Cell \u001b[0;32mIn[6], line 7\u001b[0m\n\u001b[1;32m      4\u001b[0m input_path2 \u001b[38;5;241m=\u001b[39m \u001b[38;5;124m\"\u001b[39m\u001b[38;5;124mimg.jpg\u001b[39m\u001b[38;5;124m\"\u001b[39m\n\u001b[1;32m      5\u001b[0m output_path \u001b[38;5;241m=\u001b[39m \u001b[38;5;124m\"\u001b[39m\u001b[38;5;124madd_image.jpg\u001b[39m\u001b[38;5;124m\"\u001b[39m\n\u001b[0;32m----> 7\u001b[0m result_image \u001b[38;5;241m=\u001b[39m \u001b[43mImageChops\u001b[49m\u001b[38;5;241;43m.\u001b[39;49m\u001b[43madd\u001b[49m\u001b[43m(\u001b[49m\u001b[43mImage\u001b[49m\u001b[38;5;241;43m.\u001b[39;49m\u001b[43mopen\u001b[49m\u001b[43m(\u001b[49m\u001b[43minput_path1\u001b[49m\u001b[43m)\u001b[49m\u001b[43m,\u001b[49m\u001b[43m \u001b[49m\u001b[43mImage\u001b[49m\u001b[38;5;241;43m.\u001b[39;49m\u001b[43mopen\u001b[49m\u001b[43m(\u001b[49m\u001b[43minput_path2\u001b[49m\u001b[43m)\u001b[49m\u001b[43m)\u001b[49m\n\u001b[1;32m      8\u001b[0m result_image\u001b[38;5;241m.\u001b[39msave(output_path)\n",
      "File \u001b[0;32m/Library/Frameworks/Python.framework/Versions/3.11/lib/python3.11/site-packages/PIL/ImageChops.py:176\u001b[0m, in \u001b[0;36madd\u001b[0;34m(image1, image2, scale, offset)\u001b[0m\n\u001b[1;32m    174\u001b[0m image1\u001b[38;5;241m.\u001b[39mload()\n\u001b[1;32m    175\u001b[0m image2\u001b[38;5;241m.\u001b[39mload()\n\u001b[0;32m--> 176\u001b[0m \u001b[38;5;28;01mreturn\u001b[39;00m image1\u001b[38;5;241m.\u001b[39m_new(\u001b[43mimage1\u001b[49m\u001b[38;5;241;43m.\u001b[39;49m\u001b[43mim\u001b[49m\u001b[38;5;241;43m.\u001b[39;49m\u001b[43mchop_add\u001b[49m\u001b[43m(\u001b[49m\u001b[43mimage2\u001b[49m\u001b[38;5;241;43m.\u001b[39;49m\u001b[43mim\u001b[49m\u001b[43m,\u001b[49m\u001b[43m \u001b[49m\u001b[43mscale\u001b[49m\u001b[43m,\u001b[49m\u001b[43m \u001b[49m\u001b[43moffset\u001b[49m\u001b[43m)\u001b[49m)\n",
      "\u001b[0;31mValueError\u001b[0m: images do not match"
     ]
    }
   ],
   "source": [
    "from PIL import Image, ImageChops\n",
    "\n",
    "input_path1 = \"Vp.jpg\"\n",
    "input_path2 = \"img.jpg\"\n",
    "output_path = \"add_image.jpg\"\n",
    "\n",
    "result_image = ImageChops.add(Image.open(input_path1), Image.open(input_path2))\n",
    "result_image.save(output_path)"
   ]
  },
  {
   "cell_type": "code",
   "execution_count": null,
   "metadata": {},
   "outputs": [],
   "source": [
    "from PIL import Image\n",
    "#Read the two images\n",
    "image1 = Image.open('Sample.png')\n",
    "img1=image1.resize(400,400)\n",
    "img1.save('Sample500.png')"
   ]
  },
  {
   "cell_type": "code",
   "execution_count": null,
   "metadata": {},
   "outputs": [],
   "source": [
    "import cv2\n",
    "import numpy as np\n",
    "img=cv2.imread('Vp2.png',0)\n",
    "flip_img=np.flipud(img)\n",
    "cv2.imwrite('Vp1.png',flip_img)"
   ]
  },
  {
   "cell_type": "code",
   "execution_count": null,
   "metadata": {},
   "outputs": [],
   "source": [
    "from PIL import Image, ImageChops\n",
    "\n",
    "# Load two images\n",
    "image1 = Image.open(\"Vp.png\")\n",
    "image2 = Image.open(\"Vp copy.png\")\n",
    "\n",
    "# Subtract image2 from image1\n",
    "diff = ImageChops.subtract(image1, image2)\n",
    "\n",
    "# Save the result\n",
    "diff.save(\"result.jpg\")"
   ]
  },
  {
   "cell_type": "code",
   "execution_count": null,
   "metadata": {},
   "outputs": [],
   "source": [
    "# Python example program for image subtraction\n",
    "\n",
    "from PIL import Image\n",
    "\n",
    "import numpy as np\n",
    "\n",
    " \n",
    "\n",
    "# Paths of two image frames\n",
    "\n",
    "image1Path = \"Vp1.png\";\n",
    "\n",
    "image2Path = \"Vp2.png\";\n",
    "\n",
    " \n",
    "\n",
    "# Open the images\n",
    "\n",
    "image1     = Image.open(image1Path);\n",
    "\n",
    "image2     = Image.open(image2Path);\n",
    "\n",
    " \n",
    "\n",
    "# Get the image buffer as ndarray\n",
    "\n",
    "buffer1    = np.asarray(image1);\n",
    "\n",
    "buffer2    = np.asarray(image2);\n",
    "\n",
    " \n",
    "\n",
    "# Subtract image2 from image1\n",
    "\n",
    "buffer3    = buffer1 - buffer2;\n",
    "\n",
    " \n",
    "\n",
    "# Construct a new Image from the resultant buffer\n",
    "\n",
    "differenceImage     = Image.fromarray(buffer3);\n",
    "\n",
    " \n",
    "\n",
    "# Display all the images including the difference image\n",
    "\n",
    "image1.show();\n",
    "\n",
    "image2.show();\n",
    "\n",
    "differenceImage.show();"
   ]
  },
  {
   "cell_type": "code",
   "execution_count": null,
   "metadata": {},
   "outputs": [],
   "source": [
    "from PIL import Image, ImageStat\n",
    "\n",
    "im = Image.open('Vp.png')\n",
    "print(stat.mean)"
   ]
  },
  {
   "cell_type": "code",
   "execution_count": null,
   "metadata": {},
   "outputs": [],
   "source": [
    "from PIL import Image, ImageEnhance\n",
    "\n",
    "# Read the image\n",
    "im = Image.open(\"Vp.png\")\n",
    "\n",
    "stat = ImageStat.Stat(im)\n",
    "m =162.2316653415812\n",
    "\n",
    "# Image brightness enhancer\n",
    "enhancer = ImageEnhance.Brightness(im)\n",
    "\n",
    "\n",
    "\n",
    "factor =1 #gives original image\n",
    "im_output = enhancer.enhance(factor)\n",
    "im_output.save('original-image.png')\n",
    "\n",
    "factor = 1.5#brightens the image\n",
    "im_output = enhancer.enhance(factor)\n",
    "im_output.save('morebrightened-image.png')\n",
    "\n",
    "factor = 0.5 #brightens the image\n",
    "im_output = enhancer.enhance(factor)\n",
    "im_output.save('lessbrightened-image.png')"
   ]
  },
  {
   "cell_type": "code",
   "execution_count": null,
   "metadata": {},
   "outputs": [],
   "source": [
    "# importing required libraries\n",
    "import numpy as np\n",
    "import mahotas\n",
    "from pylab import imshow, show\n",
    "  \n",
    "# loading image\n",
    "img = mahotas.imread('Vp.png')\n",
    "  \n",
    "# filtering the image\n",
    "img = img[:, :, 0]\n",
    "    \n",
    "print(\"Image with filter\")\n",
    "# showing the image\n",
    "imshow(img)\n",
    "show()\n",
    "  \n",
    "# getting mean value \n",
    "mean = img.mean()\n",
    "  \n",
    "# printing mean value\n",
    "print(\"Mean Value for 0 channel : \" + str(mean))"
   ]
  },
  {
   "cell_type": "code",
   "execution_count": null,
   "metadata": {},
   "outputs": [],
   "source": [
    "from PIL import Image\n",
    "\n",
    "import numpy as np\n",
    "\n",
    " \n",
    "\n",
    "# Paths of two image frames\n",
    "\n",
    "image1Path = \"Vp.png\";\n",
    "\n",
    "\n",
    " \n",
    "\n",
    "# Open the images\n",
    "\n",
    "image1     = Image.open(image1Path);\n",
    "\n",
    "\n",
    "\n",
    " \n",
    "\n",
    "# Get the image buffer as ndarray\n",
    "\n",
    "buffer1    = np.asarray(image1);\n",
    "\n",
    "print(buffer1.mean)\n"
   ]
  },
  {
   "cell_type": "code",
   "execution_count": null,
   "metadata": {},
   "outputs": [],
   "source": [
    "from PIL import Image\n",
    "# Open the first image\n",
    "imagel = Image.open(\"Vp.png\")\n",
    "# Open the second image\n",
    "image2 = Image.open(\"Sample.png\")\n",
    "# Make sure both images have the same size\n",
    "image2 = image2.resize(image1.size)\n",
    "\n",
    "# Specify the alpha value (weight) for blending\n",
    "alpha = 0.5\n",
    "# Blend the images together\n",
    "blended_image = Image.blend(imagel, image2, alpha)\n",
    "# Save the blended image\n",
    "blended_image.save(\"blended_image.png\")\n",
    "# Display the blended image\n",
    "blended_image.show()"
   ]
  },
  {
   "cell_type": "code",
   "execution_count": null,
   "metadata": {},
   "outputs": [
    {
     "name": "stdout",
     "output_type": "stream",
     "text": [
      "Mean values (R, G, B): [162.23166534 141.43213946 137.40239533 255.        ]\n"
     ]
    },
    {
     "ename": "OSError",
     "evalue": "cannot write mode RGBA as JPEG",
     "output_type": "error",
     "traceback": [
      "\u001b[0;31m---------------------------------------------------------------------------\u001b[0m",
      "\u001b[0;31mKeyError\u001b[0m                                  Traceback (most recent call last)",
      "File \u001b[0;32m/Library/Frameworks/Python.framework/Versions/3.11/lib/python3.11/site-packages/PIL/JpegImagePlugin.py:639\u001b[0m, in \u001b[0;36m_save\u001b[0;34m(im, fp, filename)\u001b[0m\n\u001b[1;32m    638\u001b[0m \u001b[38;5;28;01mtry\u001b[39;00m:\n\u001b[0;32m--> 639\u001b[0m     rawmode \u001b[38;5;241m=\u001b[39m \u001b[43mRAWMODE\u001b[49m\u001b[43m[\u001b[49m\u001b[43mim\u001b[49m\u001b[38;5;241;43m.\u001b[39;49m\u001b[43mmode\u001b[49m\u001b[43m]\u001b[49m\n\u001b[1;32m    640\u001b[0m \u001b[38;5;28;01mexcept\u001b[39;00m \u001b[38;5;167;01mKeyError\u001b[39;00m \u001b[38;5;28;01mas\u001b[39;00m e:\n",
      "\u001b[0;31mKeyError\u001b[0m: 'RGBA'",
      "\nThe above exception was the direct cause of the following exception:\n",
      "\u001b[0;31mOSError\u001b[0m                                   Traceback (most recent call last)",
      "Cell \u001b[0;32mIn[28], line 34\u001b[0m\n\u001b[1;32m     31\u001b[0m factor \u001b[38;5;241m=\u001b[39m \u001b[38;5;241m1.5\u001b[39m\n\u001b[1;32m     32\u001b[0m new_image \u001b[38;5;241m=\u001b[39m \u001b[38;5;28mfilter\u001b[39m\u001b[38;5;241m.\u001b[39menhance(factor)\n\u001b[0;32m---> 34\u001b[0m \u001b[43mnew_image\u001b[49m\u001b[38;5;241;43m.\u001b[39;49m\u001b[43msave\u001b[49m\u001b[43m(\u001b[49m\u001b[38;5;124;43m\"\u001b[39;49m\u001b[38;5;124;43mbrightened_image.jpg\u001b[39;49m\u001b[38;5;124;43m\"\u001b[39;49m\u001b[43m)\u001b[49m\n",
      "File \u001b[0;32m/Library/Frameworks/Python.framework/Versions/3.11/lib/python3.11/site-packages/PIL/Image.py:2413\u001b[0m, in \u001b[0;36mImage.save\u001b[0;34m(self, fp, format, **params)\u001b[0m\n\u001b[1;32m   2410\u001b[0m         fp \u001b[38;5;241m=\u001b[39m builtins\u001b[38;5;241m.\u001b[39mopen(filename, \u001b[38;5;124m\"\u001b[39m\u001b[38;5;124mw+b\u001b[39m\u001b[38;5;124m\"\u001b[39m)\n\u001b[1;32m   2412\u001b[0m \u001b[38;5;28;01mtry\u001b[39;00m:\n\u001b[0;32m-> 2413\u001b[0m     \u001b[43msave_handler\u001b[49m\u001b[43m(\u001b[49m\u001b[38;5;28;43mself\u001b[39;49m\u001b[43m,\u001b[49m\u001b[43m \u001b[49m\u001b[43mfp\u001b[49m\u001b[43m,\u001b[49m\u001b[43m \u001b[49m\u001b[43mfilename\u001b[49m\u001b[43m)\u001b[49m\n\u001b[1;32m   2414\u001b[0m \u001b[38;5;28;01mexcept\u001b[39;00m \u001b[38;5;167;01mException\u001b[39;00m:\n\u001b[1;32m   2415\u001b[0m     \u001b[38;5;28;01mif\u001b[39;00m open_fp:\n",
      "File \u001b[0;32m/Library/Frameworks/Python.framework/Versions/3.11/lib/python3.11/site-packages/PIL/JpegImagePlugin.py:642\u001b[0m, in \u001b[0;36m_save\u001b[0;34m(im, fp, filename)\u001b[0m\n\u001b[1;32m    640\u001b[0m \u001b[38;5;28;01mexcept\u001b[39;00m \u001b[38;5;167;01mKeyError\u001b[39;00m \u001b[38;5;28;01mas\u001b[39;00m e:\n\u001b[1;32m    641\u001b[0m     msg \u001b[38;5;241m=\u001b[39m \u001b[38;5;124mf\u001b[39m\u001b[38;5;124m\"\u001b[39m\u001b[38;5;124mcannot write mode \u001b[39m\u001b[38;5;132;01m{\u001b[39;00mim\u001b[38;5;241m.\u001b[39mmode\u001b[38;5;132;01m}\u001b[39;00m\u001b[38;5;124m as JPEG\u001b[39m\u001b[38;5;124m\"\u001b[39m\n\u001b[0;32m--> 642\u001b[0m     \u001b[38;5;28;01mraise\u001b[39;00m \u001b[38;5;167;01mOSError\u001b[39;00m(msg) \u001b[38;5;28;01mfrom\u001b[39;00m \u001b[38;5;21;01me\u001b[39;00m\n\u001b[1;32m    644\u001b[0m info \u001b[38;5;241m=\u001b[39m im\u001b[38;5;241m.\u001b[39mencoderinfo\n\u001b[1;32m    646\u001b[0m dpi \u001b[38;5;241m=\u001b[39m [\u001b[38;5;28mround\u001b[39m(x) \u001b[38;5;28;01mfor\u001b[39;00m x \u001b[38;5;129;01min\u001b[39;00m info\u001b[38;5;241m.\u001b[39mget(\u001b[38;5;124m\"\u001b[39m\u001b[38;5;124mdpi\u001b[39m\u001b[38;5;124m\"\u001b[39m, (\u001b[38;5;241m0\u001b[39m, \u001b[38;5;241m0\u001b[39m))]\n",
      "\u001b[0;31mOSError\u001b[0m: cannot write mode RGBA as JPEG"
     ]
    }
   ],
   "source": [
    "from PIL import Image, ImageChops\n",
    "\n",
    "input_path1 = \"Vp1.png\"\n",
    "input_path2 = \"Vp2.png\"\n",
    "output_path = \"add_image.png\"\n",
    "\n",
    "result_image = ImageChops.add(Image.open(input_path1), Image.open(input_path2))\n",
    "result_image.save(output_path)\n",
    "\n",
    "from PIL import Image, ImageChops\n",
    "\n",
    "input_path1 = \"Vp1.png\"\n",
    "input_path2 = \"Vp2.png\"\n",
    "output_path = \"sub_image.jpg\"\n",
    "\n",
    "result_image = ImageChops.subtract(Image.open(input_path1), Image.open(input_path2))\n",
    "result_image.save(output_path)\n",
    "from PIL import Image\n",
    "import numpy as np\n",
    "\n",
    "image_path = \"Vp.png\"\n",
    "\n",
    "image_array = np.array(Image.open(image_path))\n",
    "mean_values = np.mean(image_array, axis=(0, 1))\n",
    "\n",
    "print(f\"Mean values (R, G, B): {mean_values}\")\n",
    "from PIL import Image, ImageEnhance\n",
    "\n",
    "img = Image.open(\"Vp.png\")\n",
    "filter = ImageEnhance.Brightness(img)\n",
    "factor = 1.5\n",
    "new_image = filter.enhance(factor)\n",
    "\n",
    "new_image.save(\"brightened_image.jpg\")"
   ]
  },
  {
   "cell_type": "code",
   "execution_count": null,
   "metadata": {},
   "outputs": [
    {
     "ename": "OSError",
     "evalue": "cannot write mode RGBA as JPEG",
     "output_type": "error",
     "traceback": [
      "\u001b[0;31m---------------------------------------------------------------------------\u001b[0m",
      "\u001b[0;31mKeyError\u001b[0m                                  Traceback (most recent call last)",
      "File \u001b[0;32m/Library/Frameworks/Python.framework/Versions/3.11/lib/python3.11/site-packages/PIL/JpegImagePlugin.py:639\u001b[0m, in \u001b[0;36m_save\u001b[0;34m(im, fp, filename)\u001b[0m\n\u001b[1;32m    638\u001b[0m \u001b[38;5;28;01mtry\u001b[39;00m:\n\u001b[0;32m--> 639\u001b[0m     rawmode \u001b[38;5;241m=\u001b[39m \u001b[43mRAWMODE\u001b[49m\u001b[43m[\u001b[49m\u001b[43mim\u001b[49m\u001b[38;5;241;43m.\u001b[39;49m\u001b[43mmode\u001b[49m\u001b[43m]\u001b[49m\n\u001b[1;32m    640\u001b[0m \u001b[38;5;28;01mexcept\u001b[39;00m \u001b[38;5;167;01mKeyError\u001b[39;00m \u001b[38;5;28;01mas\u001b[39;00m e:\n",
      "\u001b[0;31mKeyError\u001b[0m: 'RGBA'",
      "\nThe above exception was the direct cause of the following exception:\n",
      "\u001b[0;31mOSError\u001b[0m                                   Traceback (most recent call last)",
      "Cell \u001b[0;32mIn[35], line 8\u001b[0m\n\u001b[1;32m      5\u001b[0m factor \u001b[38;5;241m=\u001b[39m \u001b[38;5;241m1.5\u001b[39m\n\u001b[1;32m      6\u001b[0m new_image \u001b[38;5;241m=\u001b[39m \u001b[38;5;28mfilter\u001b[39m\u001b[38;5;241m.\u001b[39menhance(factor)\n\u001b[0;32m----> 8\u001b[0m \u001b[43mnew_image\u001b[49m\u001b[38;5;241;43m.\u001b[39;49m\u001b[43msave\u001b[49m\u001b[43m(\u001b[49m\u001b[38;5;124;43m\"\u001b[39;49m\u001b[38;5;124;43mbrightened_image.jpg\u001b[39;49m\u001b[38;5;124;43m\"\u001b[39;49m\u001b[43m)\u001b[49m\n\u001b[1;32m      9\u001b[0m new_image\u001b[38;5;241m.\u001b[39mshow()\n",
      "File \u001b[0;32m/Library/Frameworks/Python.framework/Versions/3.11/lib/python3.11/site-packages/PIL/Image.py:2413\u001b[0m, in \u001b[0;36mImage.save\u001b[0;34m(self, fp, format, **params)\u001b[0m\n\u001b[1;32m   2410\u001b[0m         fp \u001b[38;5;241m=\u001b[39m builtins\u001b[38;5;241m.\u001b[39mopen(filename, \u001b[38;5;124m\"\u001b[39m\u001b[38;5;124mw+b\u001b[39m\u001b[38;5;124m\"\u001b[39m)\n\u001b[1;32m   2412\u001b[0m \u001b[38;5;28;01mtry\u001b[39;00m:\n\u001b[0;32m-> 2413\u001b[0m     \u001b[43msave_handler\u001b[49m\u001b[43m(\u001b[49m\u001b[38;5;28;43mself\u001b[39;49m\u001b[43m,\u001b[49m\u001b[43m \u001b[49m\u001b[43mfp\u001b[49m\u001b[43m,\u001b[49m\u001b[43m \u001b[49m\u001b[43mfilename\u001b[49m\u001b[43m)\u001b[49m\n\u001b[1;32m   2414\u001b[0m \u001b[38;5;28;01mexcept\u001b[39;00m \u001b[38;5;167;01mException\u001b[39;00m:\n\u001b[1;32m   2415\u001b[0m     \u001b[38;5;28;01mif\u001b[39;00m open_fp:\n",
      "File \u001b[0;32m/Library/Frameworks/Python.framework/Versions/3.11/lib/python3.11/site-packages/PIL/JpegImagePlugin.py:642\u001b[0m, in \u001b[0;36m_save\u001b[0;34m(im, fp, filename)\u001b[0m\n\u001b[1;32m    640\u001b[0m \u001b[38;5;28;01mexcept\u001b[39;00m \u001b[38;5;167;01mKeyError\u001b[39;00m \u001b[38;5;28;01mas\u001b[39;00m e:\n\u001b[1;32m    641\u001b[0m     msg \u001b[38;5;241m=\u001b[39m \u001b[38;5;124mf\u001b[39m\u001b[38;5;124m\"\u001b[39m\u001b[38;5;124mcannot write mode \u001b[39m\u001b[38;5;132;01m{\u001b[39;00mim\u001b[38;5;241m.\u001b[39mmode\u001b[38;5;132;01m}\u001b[39;00m\u001b[38;5;124m as JPEG\u001b[39m\u001b[38;5;124m\"\u001b[39m\n\u001b[0;32m--> 642\u001b[0m     \u001b[38;5;28;01mraise\u001b[39;00m \u001b[38;5;167;01mOSError\u001b[39;00m(msg) \u001b[38;5;28;01mfrom\u001b[39;00m \u001b[38;5;21;01me\u001b[39;00m\n\u001b[1;32m    644\u001b[0m info \u001b[38;5;241m=\u001b[39m im\u001b[38;5;241m.\u001b[39mencoderinfo\n\u001b[1;32m    646\u001b[0m dpi \u001b[38;5;241m=\u001b[39m [\u001b[38;5;28mround\u001b[39m(x) \u001b[38;5;28;01mfor\u001b[39;00m x \u001b[38;5;129;01min\u001b[39;00m info\u001b[38;5;241m.\u001b[39mget(\u001b[38;5;124m\"\u001b[39m\u001b[38;5;124mdpi\u001b[39m\u001b[38;5;124m\"\u001b[39m, (\u001b[38;5;241m0\u001b[39m, \u001b[38;5;241m0\u001b[39m))]\n",
      "\u001b[0;31mOSError\u001b[0m: cannot write mode RGBA as JPEG"
     ]
    }
   ],
   "source": [
    "from PIL import Image, ImageEnhance\n",
    "\n",
    "img = Image.open(\"Vp.png\")\n",
    "filter = ImageEnhance.Brightness(img)\n",
    "factor = 1.5\n",
    "new_image = filter.enhance(factor)\n",
    "\n",
    "new_image.save(\"brightened_image.jpg\")\n",
    "new_image.show()"
   ]
  },
  {
   "cell_type": "code",
   "execution_count": null,
   "metadata": {},
   "outputs": [],
   "source": [
    "from PIL import Image, ImageChops\n",
    "\n",
    "input_path1 = \"Vp1.png\"\n",
    "input_path2 = \"Vp2.png\"\n",
    "output_path = \"sub_image.jpg\"\n",
    "\n",
    "result_image = ImageChops.subtract(Image.open(input_path1), Image.open(input_path2))\n",
    "result_image.save(output_path)\n",
    "result_image.show()"
   ]
  },
  {
   "cell_type": "code",
   "execution_count": null,
   "metadata": {},
   "outputs": [],
   "source": [
    "from PIL import Image, ImageChops\n",
    "\n",
    "input_path1 = \"Vp1.png\"\n",
    "input_path2 = \"Vp2.png\"\n",
    "output_path = \"add_image.png\"\n",
    "\n",
    "result_image = ImageChops.add(Image.open(input_path1), Image.open(input_path2))\n",
    "result_image.save(output_path)\n",
    "result_image.show()"
   ]
  },
  {
   "cell_type": "code",
   "execution_count": null,
   "metadata": {},
   "outputs": [
    {
     "ename": "ValueError",
     "evalue": "images do not match",
     "output_type": "error",
     "traceback": [
      "\u001b[0;31m---------------------------------------------------------------------------\u001b[0m",
      "\u001b[0;31mValueError\u001b[0m                                Traceback (most recent call last)",
      "Cell \u001b[0;32mIn[31], line 7\u001b[0m\n\u001b[1;32m      4\u001b[0m input_path2 \u001b[38;5;241m=\u001b[39m \u001b[38;5;124m\"\u001b[39m\u001b[38;5;124mimg.jpg\u001b[39m\u001b[38;5;124m\"\u001b[39m\n\u001b[1;32m      5\u001b[0m output_path \u001b[38;5;241m=\u001b[39m \u001b[38;5;124m\"\u001b[39m\u001b[38;5;124madd_image.jpg\u001b[39m\u001b[38;5;124m\"\u001b[39m\n\u001b[0;32m----> 7\u001b[0m result_image \u001b[38;5;241m=\u001b[39m \u001b[43mImageChops\u001b[49m\u001b[38;5;241;43m.\u001b[39;49m\u001b[43madd\u001b[49m\u001b[43m(\u001b[49m\u001b[43mImage\u001b[49m\u001b[38;5;241;43m.\u001b[39;49m\u001b[43mopen\u001b[49m\u001b[43m(\u001b[49m\u001b[43minput_path1\u001b[49m\u001b[43m)\u001b[49m\u001b[43m,\u001b[49m\u001b[43m \u001b[49m\u001b[43mImage\u001b[49m\u001b[38;5;241;43m.\u001b[39;49m\u001b[43mopen\u001b[49m\u001b[43m(\u001b[49m\u001b[43minput_path2\u001b[49m\u001b[43m)\u001b[49m\u001b[43m)\u001b[49m\n\u001b[1;32m      8\u001b[0m result_image\u001b[38;5;241m.\u001b[39msave(output_path)\n",
      "File \u001b[0;32m/Library/Frameworks/Python.framework/Versions/3.11/lib/python3.11/site-packages/PIL/ImageChops.py:176\u001b[0m, in \u001b[0;36madd\u001b[0;34m(image1, image2, scale, offset)\u001b[0m\n\u001b[1;32m    174\u001b[0m image1\u001b[38;5;241m.\u001b[39mload()\n\u001b[1;32m    175\u001b[0m image2\u001b[38;5;241m.\u001b[39mload()\n\u001b[0;32m--> 176\u001b[0m \u001b[38;5;28;01mreturn\u001b[39;00m image1\u001b[38;5;241m.\u001b[39m_new(\u001b[43mimage1\u001b[49m\u001b[38;5;241;43m.\u001b[39;49m\u001b[43mim\u001b[49m\u001b[38;5;241;43m.\u001b[39;49m\u001b[43mchop_add\u001b[49m\u001b[43m(\u001b[49m\u001b[43mimage2\u001b[49m\u001b[38;5;241;43m.\u001b[39;49m\u001b[43mim\u001b[49m\u001b[43m,\u001b[49m\u001b[43m \u001b[49m\u001b[43mscale\u001b[49m\u001b[43m,\u001b[49m\u001b[43m \u001b[49m\u001b[43moffset\u001b[49m\u001b[43m)\u001b[49m)\n",
      "\u001b[0;31mValueError\u001b[0m: images do not match"
     ]
    }
   ],
   "source": [
    "from PIL import Image, ImageChops\n",
    "\n",
    "input_path1 = \"Vp.jpg\"\n",
    "input_path2 = \"img.jpg\"\n",
    "output_path = \"add_image.jpg\"\n",
    "\n",
    "result_image = ImageChops.add(Image.open(input_path1), Image.open(input_path2))\n",
    "result_image.save(output_path)"
   ]
  },
  {
   "cell_type": "code",
   "execution_count": null,
   "metadata": {},
   "outputs": [],
   "source": [
    "from PIL import Image\n",
    "import PIL.ImageOps  \n",
    "\n",
    "\n",
    "img=Image.open(\"Sample.png\")\n",
    "\n",
    "neg_img=PIL.ImageOps.invert(img)\n",
    "neg_img.save(\"Vp_neg.png\")"
   ]
  },
  {
   "cell_type": "code",
   "execution_count": null,
   "metadata": {},
   "outputs": [],
   "source": [
    "threshold = 100\n",
    "im = ImgOps.graysacle(lambda p: p > threshold and 255)"
   ]
  },
  {
   "cell_type": "code",
   "execution_count": null,
   "metadata": {},
   "outputs": [
    {
     "ename": "AttributeError",
     "evalue": "module 'PIL.Image' has no attribute 'flip'",
     "output_type": "error",
     "traceback": [
      "\u001b[0;31m---------------------------------------------------------------------------\u001b[0m",
      "\u001b[0;31mAttributeError\u001b[0m                            Traceback (most recent call last)",
      "Cell \u001b[0;32mIn[15], line 1\u001b[0m\n\u001b[0;32m----> 1\u001b[0m img\u001b[38;5;241m.\u001b[39mtranspose(\u001b[43mImage\u001b[49m\u001b[38;5;241;43m.\u001b[39;49m\u001b[43mflip\u001b[49m)\u001b[38;5;241m.\u001b[39msave(\u001b[38;5;124m\"\u001b[39m\u001b[38;5;124mimg_flip.png\u001b[39m\u001b[38;5;124m\"\u001b[39m)\n",
      "\u001b[0;31mAttributeError\u001b[0m: module 'PIL.Image' has no attribute 'flip'"
     ]
    }
   ],
   "source": [
    "img.transpose(Image.flip).save(\"img_flip.png\")"
   ]
  }
 ],
 "metadata": {
  "kernelspec": {
   "display_name": "myproject",
   "language": "python",
   "name": "myproject"
  },
  "language_info": {
   "codemirror_mode": {
    "name": "ipython",
    "version": 3
   },
   "file_extension": ".py",
   "mimetype": "text/x-python",
   "name": "python",
   "nbconvert_exporter": "python",
   "pygments_lexer": "ipython3",
   "version": "3.11.4"
  }
 },
 "nbformat": 4,
 "nbformat_minor": 2
}
